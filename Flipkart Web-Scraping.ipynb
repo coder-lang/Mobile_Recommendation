{
 "cells": [
  {
   "cell_type": "code",
   "execution_count": 1,
   "id": "5b3f85c7",
   "metadata": {},
   "outputs": [],
   "source": [
    "import pandas as pd\n",
    "import requests\n",
    "from bs4 import BeautifulSoup"
   ]
  },
  {
   "cell_type": "code",
   "execution_count": null,
   "id": "5cb913cd",
   "metadata": {},
   "outputs": [],
   "source": [
    "url = \"https://www.flipkart.com/search?q=mobile+phones+under+30000&as=on&as-show=on&otracker=AS_Query_OrganicAutoSuggest_8_20_na_na_ps&otracker1=AS_Query_OrganicAutoSuggest_8_20_na_na_ps&as-pos=8&as-type=RECENT&suggestionId=mobile+phones+under+30000&requestId=3d622054-dc3e-4981-84d1-d047af293b87&as-searchtext=mobile+phones+under+30000&page=1\""
   ]
  },
  {
   "cell_type": "code",
   "execution_count": null,
   "id": "ab5989d3",
   "metadata": {},
   "outputs": [],
   "source": [
    "r = requests.get(url)\n",
    "# print(r)"
   ]
  },
  {
   "cell_type": "code",
   "execution_count": null,
   "id": "dd6c02bd",
   "metadata": {},
   "outputs": [],
   "source": [
    "soup = BeautifulSoup(r.text, \"lxml\")\n",
    "# print(soup)"
   ]
  },
  {
   "cell_type": "code",
   "execution_count": null,
   "id": "5dde78a2",
   "metadata": {},
   "outputs": [],
   "source": [
    "soup = BeautifulSoup(r.text, \"lxml\")\n",
    "box = soup.find(\"div\", class_ = \"_1YokD2 _3Mn1Gg\")"
   ]
  },
  {
   "cell_type": "code",
   "execution_count": null,
   "id": "e2252095",
   "metadata": {},
   "outputs": [],
   "source": [
    "# Find the element with the specified class\n",
    "np = box.find(\"a\",class_=\"_1LKTO3\").get('href')\n",
    "np"
   ]
  },
  {
   "cell_type": "code",
   "execution_count": null,
   "id": "a6c64ca3",
   "metadata": {},
   "outputs": [],
   "source": [
    "cnp = \"https://www.flipkart.com\"+np\n",
    "print(cnp)"
   ]
  },
  {
   "cell_type": "code",
   "execution_count": 62,
   "id": "bd8dbe62",
   "metadata": {},
   "outputs": [],
   "source": [
    "Product_name = []\n",
    "Prices = []\n",
    "Description = []\n",
    "Review = []\n",
    "Images = []\n",
    "for i in range(2, 12):\n",
    "    url = \"https://www.flipkart.com/search?q=mobile+phones+under+30000&as=on&as-show=on&otracker=AS_Query_OrganicAutoSuggest_8_20_na_na_ps&otracker1=AS_Query_OrganicAutoSuggest_8_20_na_na_ps&as-pos=8&as-type=RECENT&suggestionId=mobile+phones+under+30000&requestId=3d622054-dc3e-4981-84d1-d047af293b87&as-searchtext=mobile+phones+under+30000&page=\"+str(i)\n",
    "    r = requests.get(url)\n",
    "    soup = BeautifulSoup(r.text, \"lxml\")\n",
    "    box = soup.find(\"div\", class_ = \"_1YokD2 _3Mn1Gg\")\n",
    "    names = box.find_all(\"div\", class_ = \"_4rR01T\")\n",
    "    for i in names:\n",
    "        name = i.text\n",
    "        Product_name.append(name)\n",
    "    prices = box.find_all(\"div\", class_ = \"_30jeq3 _1_WHN1\")\n",
    "    for i in prices:\n",
    "        name = i.text\n",
    "        Prices.append(name)\n",
    "    desc = box.find_all(\"ul\", class_ = \"_1xgFaf\")\n",
    "    for i in desc:\n",
    "        name = i.text\n",
    "        Description.append(name)\n",
    "    rev = box.find_all(\"div\", class_ = '_3LWZlK')\n",
    "    for i in rev:\n",
    "        name = i.text\n",
    "        Review.append(name)\n"
   ]
  },
  {
   "cell_type": "code",
   "execution_count": 63,
   "id": "8e109ddc",
   "metadata": {},
   "outputs": [
    {
     "name": "stdout",
     "output_type": "stream",
     "text": [
      "240\n",
      "238\n",
      "240\n",
      "240\n"
     ]
    },
    {
     "data": {
      "text/plain": [
       "(None, None, None, None)"
      ]
     },
     "execution_count": 63,
     "metadata": {},
     "output_type": "execute_result"
    }
   ],
   "source": [
    "print(len(Description)),print(len(Review)), print(len(Prices)), print(len(Product_name))"
   ]
  },
  {
   "cell_type": "code",
   "execution_count": 51,
   "id": "703e1816",
   "metadata": {},
   "outputs": [],
   "source": [
    "df = pd.DataFrame({\"Product Name\": Product_name, \"Prices\": Prices, \"Description\": Description, \"Review\": Review})"
   ]
  },
  {
   "cell_type": "code",
   "execution_count": 52,
   "id": "096ed16f",
   "metadata": {
    "scrolled": true
   },
   "outputs": [
    {
     "data": {
      "text/html": [
       "<div>\n",
       "<style scoped>\n",
       "    .dataframe tbody tr th:only-of-type {\n",
       "        vertical-align: middle;\n",
       "    }\n",
       "\n",
       "    .dataframe tbody tr th {\n",
       "        vertical-align: top;\n",
       "    }\n",
       "\n",
       "    .dataframe thead th {\n",
       "        text-align: right;\n",
       "    }\n",
       "</style>\n",
       "<table border=\"1\" class=\"dataframe\">\n",
       "  <thead>\n",
       "    <tr style=\"text-align: right;\">\n",
       "      <th></th>\n",
       "      <th>Product Name</th>\n",
       "      <th>Prices</th>\n",
       "      <th>Description</th>\n",
       "      <th>Review</th>\n",
       "    </tr>\n",
       "  </thead>\n",
       "  <tbody>\n",
       "    <tr>\n",
       "      <th>0</th>\n",
       "      <td>REDMI Note 12 Pro 5G (Stardust Purple, 256 GB)</td>\n",
       "      <td>₹25,999</td>\n",
       "      <td>12 GB RAM | 256 GB ROM16.94 cm (6.67 inch) Ful...</td>\n",
       "      <td>4.1</td>\n",
       "    </tr>\n",
       "    <tr>\n",
       "      <th>1</th>\n",
       "      <td>SAMSUNG Galaxy A34 5G (Awesome Violet, 256 GB)</td>\n",
       "      <td>₹29,999</td>\n",
       "      <td>8 GB RAM | 256 GB ROM | Expandable Upto 1 TB16...</td>\n",
       "      <td>4.2</td>\n",
       "    </tr>\n",
       "    <tr>\n",
       "      <th>2</th>\n",
       "      <td>POCO X5 5G (Supernova Green, 256 GB)</td>\n",
       "      <td>₹14,999</td>\n",
       "      <td>8 GB RAM | 256 GB ROM | Expandable Upto 1 TB16...</td>\n",
       "      <td>4.2</td>\n",
       "    </tr>\n",
       "    <tr>\n",
       "      <th>3</th>\n",
       "      <td>SAMSUNG Galaxy F14 5G (OMG Black, 128 GB)</td>\n",
       "      <td>₹12,490</td>\n",
       "      <td>6 GB RAM | 128 GB ROM | Expandable Upto 1 TB16...</td>\n",
       "      <td>4.2</td>\n",
       "    </tr>\n",
       "    <tr>\n",
       "      <th>4</th>\n",
       "      <td>OnePlus Nord CE3 5G (Grey Shimmer, 128 GB)</td>\n",
       "      <td>₹25,098</td>\n",
       "      <td>8 GB RAM | 128 GB ROM17.02 cm (6.7 inch) Displ...</td>\n",
       "      <td>4.4</td>\n",
       "    </tr>\n",
       "  </tbody>\n",
       "</table>\n",
       "</div>"
      ],
      "text/plain": [
       "                                     Product Name   Prices  \\\n",
       "0  REDMI Note 12 Pro 5G (Stardust Purple, 256 GB)  ₹25,999   \n",
       "1  SAMSUNG Galaxy A34 5G (Awesome Violet, 256 GB)  ₹29,999   \n",
       "2            POCO X5 5G (Supernova Green, 256 GB)  ₹14,999   \n",
       "3       SAMSUNG Galaxy F14 5G (OMG Black, 128 GB)  ₹12,490   \n",
       "4      OnePlus Nord CE3 5G (Grey Shimmer, 128 GB)  ₹25,098   \n",
       "\n",
       "                                         Description Review  \n",
       "0  12 GB RAM | 256 GB ROM16.94 cm (6.67 inch) Ful...    4.1  \n",
       "1  8 GB RAM | 256 GB ROM | Expandable Upto 1 TB16...    4.2  \n",
       "2  8 GB RAM | 256 GB ROM | Expandable Upto 1 TB16...    4.2  \n",
       "3  6 GB RAM | 128 GB ROM | Expandable Upto 1 TB16...    4.2  \n",
       "4  8 GB RAM | 128 GB ROM17.02 cm (6.7 inch) Displ...    4.4  "
      ]
     },
     "execution_count": 52,
     "metadata": {},
     "output_type": "execute_result"
    }
   ],
   "source": [
    "df.head()"
   ]
  },
  {
   "cell_type": "code",
   "execution_count": 53,
   "id": "55f8a5d3",
   "metadata": {},
   "outputs": [
    {
     "data": {
      "text/plain": [
       "(72, 4)"
      ]
     },
     "execution_count": 53,
     "metadata": {},
     "output_type": "execute_result"
    }
   ],
   "source": [
    "df.shape"
   ]
  },
  {
   "cell_type": "code",
   "execution_count": 14,
   "id": "71b48553",
   "metadata": {},
   "outputs": [],
   "source": [
    "df['Brand'] = df['Product Name'].str.split().str[0]"
   ]
  },
  {
   "cell_type": "code",
   "execution_count": 15,
   "id": "b31c700e",
   "metadata": {},
   "outputs": [],
   "source": [
    "df.to_csv(\"Mobile_data_Flipkart_image.csv\", index = False)"
   ]
  },
  {
   "cell_type": "code",
   "execution_count": 16,
   "id": "5c2a86cd",
   "metadata": {},
   "outputs": [
    {
     "data": {
      "text/html": [
       "<div>\n",
       "<style scoped>\n",
       "    .dataframe tbody tr th:only-of-type {\n",
       "        vertical-align: middle;\n",
       "    }\n",
       "\n",
       "    .dataframe tbody tr th {\n",
       "        vertical-align: top;\n",
       "    }\n",
       "\n",
       "    .dataframe thead th {\n",
       "        text-align: right;\n",
       "    }\n",
       "</style>\n",
       "<table border=\"1\" class=\"dataframe\">\n",
       "  <thead>\n",
       "    <tr style=\"text-align: right;\">\n",
       "      <th></th>\n",
       "      <th>Product Name</th>\n",
       "      <th>Prices</th>\n",
       "      <th>Description</th>\n",
       "      <th>Review</th>\n",
       "      <th>Image</th>\n",
       "      <th>Brand</th>\n",
       "    </tr>\n",
       "  </thead>\n",
       "  <tbody>\n",
       "    <tr>\n",
       "      <th>0</th>\n",
       "      <td>REDMI Note 12 Pro 5G (Stardust Purple, 256 GB)</td>\n",
       "      <td>₹25,999</td>\n",
       "      <td>12 GB RAM | 256 GB ROM16.94 cm (6.67 inch) Ful...</td>\n",
       "      <td>4.1</td>\n",
       "      <td>https://rukminim2.flixcart.com/image/312/312/x...</td>\n",
       "      <td>REDMI</td>\n",
       "    </tr>\n",
       "    <tr>\n",
       "      <th>1</th>\n",
       "      <td>SAMSUNG Galaxy A34 5G (Awesome Violet, 256 GB)</td>\n",
       "      <td>₹29,999</td>\n",
       "      <td>8 GB RAM | 256 GB ROM | Expandable Upto 1 TB16...</td>\n",
       "      <td>4.2</td>\n",
       "      <td>https://rukminim2.flixcart.com/image/312/312/x...</td>\n",
       "      <td>SAMSUNG</td>\n",
       "    </tr>\n",
       "    <tr>\n",
       "      <th>2</th>\n",
       "      <td>POCO X5 5G (Supernova Green, 256 GB)</td>\n",
       "      <td>₹14,999</td>\n",
       "      <td>8 GB RAM | 256 GB ROM | Expandable Upto 1 TB16...</td>\n",
       "      <td>4.2</td>\n",
       "      <td>https://rukminim2.flixcart.com/image/312/312/x...</td>\n",
       "      <td>POCO</td>\n",
       "    </tr>\n",
       "    <tr>\n",
       "      <th>3</th>\n",
       "      <td>SAMSUNG Galaxy F14 5G (OMG Black, 128 GB)</td>\n",
       "      <td>₹12,490</td>\n",
       "      <td>6 GB RAM | 128 GB ROM | Expandable Upto 1 TB16...</td>\n",
       "      <td>4.2</td>\n",
       "      <td>https://rukminim2.flixcart.com/image/312/312/x...</td>\n",
       "      <td>SAMSUNG</td>\n",
       "    </tr>\n",
       "    <tr>\n",
       "      <th>4</th>\n",
       "      <td>SAMSUNG Galaxy A34 5G (Awesome Violet, 128 GB)</td>\n",
       "      <td>₹27,999</td>\n",
       "      <td>8 GB RAM | 128 GB ROM | Expandable Upto 1 TB16...</td>\n",
       "      <td>4.2</td>\n",
       "      <td>https://rukminim2.flixcart.com/image/312/312/x...</td>\n",
       "      <td>SAMSUNG</td>\n",
       "    </tr>\n",
       "  </tbody>\n",
       "</table>\n",
       "</div>"
      ],
      "text/plain": [
       "                                     Product Name   Prices  \\\n",
       "0  REDMI Note 12 Pro 5G (Stardust Purple, 256 GB)  ₹25,999   \n",
       "1  SAMSUNG Galaxy A34 5G (Awesome Violet, 256 GB)  ₹29,999   \n",
       "2            POCO X5 5G (Supernova Green, 256 GB)  ₹14,999   \n",
       "3       SAMSUNG Galaxy F14 5G (OMG Black, 128 GB)  ₹12,490   \n",
       "4  SAMSUNG Galaxy A34 5G (Awesome Violet, 128 GB)  ₹27,999   \n",
       "\n",
       "                                         Description Review  \\\n",
       "0  12 GB RAM | 256 GB ROM16.94 cm (6.67 inch) Ful...    4.1   \n",
       "1  8 GB RAM | 256 GB ROM | Expandable Upto 1 TB16...    4.2   \n",
       "2  8 GB RAM | 256 GB ROM | Expandable Upto 1 TB16...    4.2   \n",
       "3  6 GB RAM | 128 GB ROM | Expandable Upto 1 TB16...    4.2   \n",
       "4  8 GB RAM | 128 GB ROM | Expandable Upto 1 TB16...    4.2   \n",
       "\n",
       "                                               Image    Brand  \n",
       "0  https://rukminim2.flixcart.com/image/312/312/x...    REDMI  \n",
       "1  https://rukminim2.flixcart.com/image/312/312/x...  SAMSUNG  \n",
       "2  https://rukminim2.flixcart.com/image/312/312/x...     POCO  \n",
       "3  https://rukminim2.flixcart.com/image/312/312/x...  SAMSUNG  \n",
       "4  https://rukminim2.flixcart.com/image/312/312/x...  SAMSUNG  "
      ]
     },
     "execution_count": 16,
     "metadata": {},
     "output_type": "execute_result"
    }
   ],
   "source": [
    "df.head()"
   ]
  },
  {
   "cell_type": "markdown",
   "id": "7ff3ae03",
   "metadata": {},
   "source": [
    "# one by One data sraping"
   ]
  },
  {
   "cell_type": "code",
   "execution_count": 42,
   "id": "f1654a4e",
   "metadata": {},
   "outputs": [],
   "source": [
    "url = \"https://www.flipkart.com/search?q=mobile+phones+under+30000&as=on&as-show=on&otracker=AS_Query_OrganicAutoSuggest_8_20_na_na_ps&otracker1=AS_Query_OrganicAutoSuggest_8_20_na_na_ps&as-pos=8&as-type=RECENT&suggestionId=mobile+phones+under+30000&requestId=3d622054-dc3e-4981-84d1-d047af293b87&as-searchtext=mobile+phones+under+30000&page=\"+str(10)\n",
    "r = requests.get(url)\n",
    "soup = BeautifulSoup(r.text, \"lxml\")\n",
    "box = soup.find(\"div\", class_ = \"_1YokD2 _3Mn1Gg\")"
   ]
  },
  {
   "cell_type": "code",
   "execution_count": 43,
   "id": "05a6ef22",
   "metadata": {},
   "outputs": [
    {
     "name": "stdout",
     "output_type": "stream",
     "text": [
      "24\n"
     ]
    }
   ],
   "source": [
    "Product_name = []\n",
    "names = box.find_all(\"div\", class_ = \"_4rR01T\")\n",
    "for i in names:\n",
    "    name = i.text\n",
    "    Product_name.append(name)\n",
    "print(len(Product_name))"
   ]
  },
  {
   "cell_type": "code",
   "execution_count": 44,
   "id": "07cb47e0",
   "metadata": {},
   "outputs": [
    {
     "name": "stdout",
     "output_type": "stream",
     "text": [
      "24\n"
     ]
    }
   ],
   "source": [
    "Prices = []\n",
    "prices = box.find_all(\"div\", class_ = \"_30jeq3 _1_WHN1\")\n",
    "for i in prices:\n",
    "    name = i.text\n",
    "    Prices.append(name)\n",
    "# print(Prices)\n",
    "print(len(Prices))"
   ]
  },
  {
   "cell_type": "code",
   "execution_count": 45,
   "id": "e2a99469",
   "metadata": {},
   "outputs": [
    {
     "name": "stdout",
     "output_type": "stream",
     "text": [
      "24\n"
     ]
    }
   ],
   "source": [
    "Description = []\n",
    "desc = box.find_all(\"ul\", class_ = \"_1xgFaf\")\n",
    "for i in desc:\n",
    "    name = i.text\n",
    "    Description.append(name)\n",
    "print(len(Description))"
   ]
  },
  {
   "cell_type": "code",
   "execution_count": 46,
   "id": "a2bcdc9c",
   "metadata": {},
   "outputs": [
    {
     "name": "stdout",
     "output_type": "stream",
     "text": [
      "24\n"
     ]
    }
   ],
   "source": [
    "Review = []\n",
    "rev = box.find_all(\"div\", class_ = '_3LWZlK')\n",
    "for i in rev:\n",
    "    name = i.text\n",
    "    Review.append(name)\n",
    "print(len(Review))"
   ]
  },
  {
   "cell_type": "code",
   "execution_count": 47,
   "id": "f62ebf4a",
   "metadata": {},
   "outputs": [
    {
     "name": "stdout",
     "output_type": "stream",
     "text": [
      "24\n"
     ]
    }
   ],
   "source": [
    "Images = []\n",
    "img = box.find_all(\"img\", class_ = '_396cs4')\n",
    "for i in img:\n",
    "    name = i['src']\n",
    "    Images.append(name)\n",
    "print(len(Images))"
   ]
  },
  {
   "cell_type": "code",
   "execution_count": null,
   "id": "c42a58fe",
   "metadata": {},
   "outputs": [],
   "source": []
  }
 ],
 "metadata": {
  "kernelspec": {
   "display_name": "Python 3 (ipykernel)",
   "language": "python",
   "name": "python3"
  },
  "language_info": {
   "codemirror_mode": {
    "name": "ipython",
    "version": 3
   },
   "file_extension": ".py",
   "mimetype": "text/x-python",
   "name": "python",
   "nbconvert_exporter": "python",
   "pygments_lexer": "ipython3",
   "version": "3.8.16"
  }
 },
 "nbformat": 4,
 "nbformat_minor": 5
}
